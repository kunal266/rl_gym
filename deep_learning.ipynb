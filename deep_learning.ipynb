{
  "cells": [
    {
      "cell_type": "markdown",
      "metadata": {
        "id": "l-xZO606kt-o"
      },
      "source": [
        "# 0 Install Dependecies"
      ]
    },
    {
      "cell_type": "code",
      "execution_count": null,
      "metadata": {
        "id": "tjNk-Pg0kt_L"
      },
      "outputs": [],
      "source": [
        "!pip install tensorflow==2.3.0\n",
        "!pip install gym\n",
        "!pip install keras\n",
        "!pip install keras-rl2"
      ]
    },
    {
      "cell_type": "code",
      "execution_count": null,
      "metadata": {
        "id": "PLnLkGh9kt_Z",
        "outputId": "54e03298-46d0-4ac8-b7f4-a89fb5a7debb"
      },
      "outputs": [
        {
          "name": "stdout",
          "output_type": "stream",
          "text": [
            "Collecting pygame\n",
            "  Downloading pygame-2.1.2-cp38-cp38-manylinux_2_17_x86_64.manylinux2014_x86_64.whl (21.8 MB)\n",
            "\u001b[2K     \u001b[90m━━━━━━━━━━━━━━━━━━━━━━━━━━━━━━━━━━━━━━━━\u001b[0m \u001b[32m21.8/21.8 MB\u001b[0m \u001b[31m77.1 MB/s\u001b[0m eta \u001b[36m0:00:00\u001b[0m00:01\u001b[0m00:01\u001b[0m\n",
            "\u001b[?25hInstalling collected packages: pygame\n",
            "Successfully installed pygame-2.1.2\n",
            "\u001b[33mWARNING: You are using pip version 22.0.3; however, version 22.0.4 is available.\n",
            "You should consider upgrading via the '/home/gitpod/.pyenv/versions/3.8.12/bin/python3 -m pip install --upgrade pip' command.\u001b[0m\u001b[33m\n",
            "\u001b[0m"
          ]
        }
      ],
      "source": [
        "!pip install pygame"
      ]
    },
    {
      "cell_type": "markdown",
      "metadata": {
        "id": "oEpHir6Hkt_c"
      },
      "source": [
        "# 1 Test Env with OpenAI GYM"
      ]
    },
    {
      "cell_type": "code",
      "execution_count": null,
      "metadata": {
        "id": "zghoi5jOkt_e"
      },
      "outputs": [],
      "source": [
        "import gym\n",
        "import random"
      ]
    },
    {
      "cell_type": "code",
      "execution_count": null,
      "metadata": {
        "id": "U4xvYg_Mkt_h"
      },
      "outputs": [],
      "source": [
        "env = gym.make('CartPole-v1')\n",
        "states = env.observation_space.shape[0]\n",
        "actions = env.action_space.n"
      ]
    },
    {
      "cell_type": "code",
      "execution_count": null,
      "metadata": {
        "id": "i0ut4AvFkt_i",
        "outputId": "7cf5a51a-7e61-46e2-fb2c-b5f2403235d0"
      },
      "outputs": [
        {
          "data": {
            "text/plain": [
              "2"
            ]
          },
          "execution_count": 8,
          "metadata": {},
          "output_type": "execute_result"
        }
      ],
      "source": [
        "actions"
      ]
    },
    {
      "cell_type": "code",
      "execution_count": null,
      "metadata": {
        "id": "dcMqo3H1kt_k",
        "outputId": "96c8ec96-6b1b-4785-c6d1-b644e78b6f01"
      },
      "outputs": [
        {
          "ename": "error",
          "evalue": "No available video device",
          "output_type": "error",
          "traceback": [
            "\u001b[0;31m---------------------------------------------------------------------------\u001b[0m",
            "\u001b[0;31merror\u001b[0m                                     Traceback (most recent call last)",
            "\u001b[1;32m/workspace/rl_gym/deep_learning.ipynb Cell 8'\u001b[0m in \u001b[0;36m<cell line: 2>\u001b[0;34m()\u001b[0m\n\u001b[1;32m      <a href='vscode-notebook-cell://kunal266-rlgym-yeron9h7903.ws-us38.gitpod.io/workspace/rl_gym/deep_learning.ipynb#ch0000007vscode-remote?line=4'>5</a>\u001b[0m score \u001b[39m=\u001b[39m \u001b[39m0\u001b[39m\n\u001b[1;32m      <a href='vscode-notebook-cell://kunal266-rlgym-yeron9h7903.ws-us38.gitpod.io/workspace/rl_gym/deep_learning.ipynb#ch0000007vscode-remote?line=5'>6</a>\u001b[0m \u001b[39mwhile\u001b[39;00m \u001b[39mnot\u001b[39;00m done:\n\u001b[0;32m----> <a href='vscode-notebook-cell://kunal266-rlgym-yeron9h7903.ws-us38.gitpod.io/workspace/rl_gym/deep_learning.ipynb#ch0000007vscode-remote?line=6'>7</a>\u001b[0m     env\u001b[39m.\u001b[39;49mrender()\n\u001b[1;32m      <a href='vscode-notebook-cell://kunal266-rlgym-yeron9h7903.ws-us38.gitpod.io/workspace/rl_gym/deep_learning.ipynb#ch0000007vscode-remote?line=7'>8</a>\u001b[0m     action \u001b[39m=\u001b[39m random\u001b[39m.\u001b[39mchoise([\u001b[39m0\u001b[39m,\u001b[39m1\u001b[39m])\n\u001b[1;32m      <a href='vscode-notebook-cell://kunal266-rlgym-yeron9h7903.ws-us38.gitpod.io/workspace/rl_gym/deep_learning.ipynb#ch0000007vscode-remote?line=8'>9</a>\u001b[0m     n_state,reward,done,info \u001b[39m=\u001b[39m env\u001b[39m.\u001b[39mstep(action)\n",
            "File \u001b[0;32m~/.pyenv/versions/3.8.12/lib/python3.8/site-packages/gym/core.py:286\u001b[0m, in \u001b[0;36mWrapper.render\u001b[0;34m(self, mode, **kwargs)\u001b[0m\n\u001b[1;32m    <a href='file:///home/gitpod/.pyenv/versions/3.8.12/lib/python3.8/site-packages/gym/core.py?line=284'>285</a>\u001b[0m \u001b[39mdef\u001b[39;00m \u001b[39mrender\u001b[39m(\u001b[39mself\u001b[39m, mode\u001b[39m=\u001b[39m\u001b[39m\"\u001b[39m\u001b[39mhuman\u001b[39m\u001b[39m\"\u001b[39m, \u001b[39m*\u001b[39m\u001b[39m*\u001b[39mkwargs):\n\u001b[0;32m--> <a href='file:///home/gitpod/.pyenv/versions/3.8.12/lib/python3.8/site-packages/gym/core.py?line=285'>286</a>\u001b[0m     \u001b[39mreturn\u001b[39;00m \u001b[39mself\u001b[39;49m\u001b[39m.\u001b[39;49menv\u001b[39m.\u001b[39;49mrender(mode, \u001b[39m*\u001b[39;49m\u001b[39m*\u001b[39;49mkwargs)\n",
            "File \u001b[0;32m~/.pyenv/versions/3.8.12/lib/python3.8/site-packages/gym/core.py:286\u001b[0m, in \u001b[0;36mWrapper.render\u001b[0;34m(self, mode, **kwargs)\u001b[0m\n\u001b[1;32m    <a href='file:///home/gitpod/.pyenv/versions/3.8.12/lib/python3.8/site-packages/gym/core.py?line=284'>285</a>\u001b[0m \u001b[39mdef\u001b[39;00m \u001b[39mrender\u001b[39m(\u001b[39mself\u001b[39m, mode\u001b[39m=\u001b[39m\u001b[39m\"\u001b[39m\u001b[39mhuman\u001b[39m\u001b[39m\"\u001b[39m, \u001b[39m*\u001b[39m\u001b[39m*\u001b[39mkwargs):\n\u001b[0;32m--> <a href='file:///home/gitpod/.pyenv/versions/3.8.12/lib/python3.8/site-packages/gym/core.py?line=285'>286</a>\u001b[0m     \u001b[39mreturn\u001b[39;00m \u001b[39mself\u001b[39;49m\u001b[39m.\u001b[39;49menv\u001b[39m.\u001b[39;49mrender(mode, \u001b[39m*\u001b[39;49m\u001b[39m*\u001b[39;49mkwargs)\n",
            "File \u001b[0;32m~/.pyenv/versions/3.8.12/lib/python3.8/site-packages/gym/envs/classic_control/cartpole.py:207\u001b[0m, in \u001b[0;36mCartPoleEnv.render\u001b[0;34m(self, mode)\u001b[0m\n\u001b[1;32m    <a href='file:///home/gitpod/.pyenv/versions/3.8.12/lib/python3.8/site-packages/gym/envs/classic_control/cartpole.py?line=204'>205</a>\u001b[0m \u001b[39mif\u001b[39;00m \u001b[39mself\u001b[39m\u001b[39m.\u001b[39mscreen \u001b[39mis\u001b[39;00m \u001b[39mNone\u001b[39;00m:\n\u001b[1;32m    <a href='file:///home/gitpod/.pyenv/versions/3.8.12/lib/python3.8/site-packages/gym/envs/classic_control/cartpole.py?line=205'>206</a>\u001b[0m     pygame\u001b[39m.\u001b[39minit()\n\u001b[0;32m--> <a href='file:///home/gitpod/.pyenv/versions/3.8.12/lib/python3.8/site-packages/gym/envs/classic_control/cartpole.py?line=206'>207</a>\u001b[0m     pygame\u001b[39m.\u001b[39;49mdisplay\u001b[39m.\u001b[39;49minit()\n\u001b[1;32m    <a href='file:///home/gitpod/.pyenv/versions/3.8.12/lib/python3.8/site-packages/gym/envs/classic_control/cartpole.py?line=207'>208</a>\u001b[0m     \u001b[39mself\u001b[39m\u001b[39m.\u001b[39mscreen \u001b[39m=\u001b[39m pygame\u001b[39m.\u001b[39mdisplay\u001b[39m.\u001b[39mset_mode((screen_width, screen_height))\n\u001b[1;32m    <a href='file:///home/gitpod/.pyenv/versions/3.8.12/lib/python3.8/site-packages/gym/envs/classic_control/cartpole.py?line=208'>209</a>\u001b[0m \u001b[39mif\u001b[39;00m \u001b[39mself\u001b[39m\u001b[39m.\u001b[39mclock \u001b[39mis\u001b[39;00m \u001b[39mNone\u001b[39;00m:\n",
            "\u001b[0;31merror\u001b[0m: No available video device"
          ]
        }
      ],
      "source": [
        "episodes = 10\n",
        "for episode in range(1,episodes+1):\n",
        "    state = env.reset()\n",
        "    done = False\n",
        "    score = 0\n",
        "    while not done:\n",
        "        env.render()\n",
        "        action = random.choise([0,1])\n",
        "        n_state,reward,done,info = env.step(action)\n",
        "        score+=reward\n",
        "    print(f'Episode:{episode} Score:{score}' )"
      ]
    },
    {
      "cell_type": "code",
      "execution_count": null,
      "metadata": {
        "id": "0Ah76nXpkt_r"
      },
      "outputs": [],
      "source": [
        ""
      ]
    }
  ],
  "metadata": {
    "interpreter": {
      "hash": "8b8334dab9339717f727a1deaf837b322d7a41c20d15cc86be99a8e69ceec8ce"
    },
    "kernelspec": {
      "display_name": "Python 3.8.12 64-bit ('3.8.12')",
      "language": "python",
      "name": "python3"
    },
    "language_info": {
      "codemirror_mode": {
        "name": "ipython",
        "version": 3
      },
      "file_extension": ".py",
      "mimetype": "text/x-python",
      "name": "python",
      "nbconvert_exporter": "python",
      "pygments_lexer": "ipython3",
      "version": "3.8.12"
    },
    "orig_nbformat": 4,
    "colab": {
      "name": "deep_learning.ipynb",
      "provenance": []
    }
  },
  "nbformat": 4,
  "nbformat_minor": 0
}